{
 "cells": [
  {
   "cell_type": "code",
   "execution_count": null,
   "metadata": {},
   "outputs": [],
   "source": [
    "1.练习测试的网络为两层的全连接神经网络，共278个输入，第一层100个神经元，第二层十个神经元。\n",
    "采用了softmax激活函数和梯度下降法进性参数的更新。\n",
    "2.代码中调用的为梯度下降的api,用上次迭代的参数数值减去学习率乘以交叉熵损失的数值。\n",
    "3.计算图仅仅是提供了数值计算的流程，没有数值参与运算。只有生成session后导入数值初始化后才有真正的数值计算。\n",
    "4。准确率低的原因，层数少？"
   ]
  },
  {
   "cell_type": "code",
   "execution_count": 3,
   "metadata": {},
   "outputs": [],
   "source": [
    "import numpy as np\n",
    "import tensorflow as tf\n",
    "from tensorflow.examples.tutorials.mnist import input_data\n",
    "from matplotlib import pyplot as plt\n",
    "%matplotlib inline\n",
    "\n",
    "tf.logging.set_verbosity(tf.logging.INFO)"
   ]
  },
  {
   "cell_type": "code",
   "execution_count": 5,
   "metadata": {},
   "outputs": [
    {
     "name": "stdout",
     "output_type": "stream",
     "text": [
      "Extracting ./train-images-idx3-ubyte.gz\n",
      "Extracting ./train-labels-idx1-ubyte.gz\n",
      "Extracting ./t10k-images-idx3-ubyte.gz\n",
      "Extracting ./t10k-labels-idx1-ubyte.gz\n",
      "(55000, 784)\n",
      "(55000,)\n",
      "(5000, 784)\n",
      "(5000, 784)\n",
      "(10000, 784)\n",
      "(10000, 784)\n"
     ]
    }
   ],
   "source": [
    "mnist = input_data.read_data_sets('./')\n",
    "print(mnist.train.images.shape)\n",
    "print(mnist.train.labels.shape)\n",
    "\n",
    "print(mnist.validation.images.shape)\n",
    "print(mnist.validation.images.shape)\n",
    "\n",
    "print(mnist.test.images.shape)\n",
    "print(mnist.test.images.shape)"
   ]
  },
  {
   "cell_type": "code",
   "execution_count": 6,
   "metadata": {},
   "outputs": [
    {
     "data": {
      "image/png": "[encoded data removed]",
      "text/plain": [
       "<Figure size 576x576 with 16 Axes>"
      ]
     },
     "metadata": {
      "needs_background": "light"
     },
     "output_type": "display_data"
    }
   ],
   "source": [
    "'''将784个数据（像素？）的1维向量转化为28*28的二维向量。\n",
    "读取数据的标签，其实就是图片的标题。\n",
    "'''\n",
    "plt.figure(figsize=(8,8))\n",
    "\n",
    "for idx in range(16):\n",
    "    plt.subplot(4,4,idx+1)\n",
    "    plt.axis('off')\n",
    "    plt.title('[{}]'.format(mnist.train.labels[idx]))\n",
    "    plt.imshow(mnist.train.images[idx].reshape((28,28)))"
   ]
  },
  {
   "cell_type": "code",
   "execution_count": 13,
   "metadata": {},
   "outputs": [],
   "source": [
    "'''定义网络的输入\n",
    "   以及两层全连接的网络\n",
    "'''\n",
    "x = tf.placeholder('float',[None,784])\n",
    "y = tf.placeholder('int64',[None])\n",
    "learning_rate = tf.placeholder('float')\n",
    "\n",
    "def initialize(shape,stddev=0.1):\n",
    "    '''对数值进行正依太分布数值的初始化\n",
    "       truncated_normal就是该API\n",
    "    '''\n",
    "    return tf.truncated_normal(shape,stddev=0.1)\n",
    "\n",
    "L1_units_count =100\n",
    "W_1 = tf.Variable(initialize([784,L1_units_count]))\n",
    "b_1 = tf.Variable(initialize([L1_units_count]))\n",
    "logits_1 = tf.matmul(x,W_1) + b_1\n",
    "output_1 = tf.nn.relu(logits_1)\n",
    "\n",
    "L2_units_counts = 10\n",
    "W_2 = tf.Variable(initialize([L1_units_count,L2_units_counts]))\n",
    "b_2 = tf.Variable(initialize([L2_units_counts]))\n",
    "logits_2 = tf.matmul(output_1,W_2) + b_2 #此处未进行输出的激活，留作下一步调用softmax和交叉熵的API\n",
    "\n",
    "logits = logits_2"
   ]
  },
  {
   "cell_type": "code",
   "execution_count": 14,
   "metadata": {},
   "outputs": [],
   "source": [
    "'''优化器的设置'''\n",
    "cross_entropy_loss = tf.reduce_mean(\n",
    "    tf.nn.sparse_softmax_cross_entropy_with_logits(logits = logits,labels = y))\n",
    "optimizer = tf.train.GradientDescentOptimizer(\n",
    "    learning_rate = learning_rate).minimize(cross_entropy_loss)"
   ]
  },
  {
   "cell_type": "code",
   "execution_count": 15,
   "metadata": {},
   "outputs": [],
   "source": [
    "pred = tf.nn.softmax(logits) #对第二层的输出进行softmax激活"
   ]
  },
  {
   "cell_type": "code",
   "execution_count": 16,
   "metadata": {},
   "outputs": [],
   "source": [
    "correct_pred = tf.equal(tf.argmax(pred,1),y)\n",
    "accuracy = tf.reduce_mean(tf.cast(correct_pred,tf.float32))"
   ]
  },
  {
   "cell_type": "code",
   "execution_count": 17,
   "metadata": {},
   "outputs": [],
   "source": [
    "batch_size = 32\n",
    "training_step = 3000\n",
    "\n",
    "saver = tf.train.Saver()\n",
    "#至此为止，计算图全部构建完毕"
   ]
  },
  {
   "cell_type": "code",
   "execution_count": 22,
   "metadata": {},
   "outputs": [
    {
     "name": "stdout",
     "output_type": "stream",
     "text": [
      "after 100 traing steps,the loss is 0.542346\n",
      "The validation accuracy is 0.857400\n",
      "after 200 traing steps,the loss is 0.308978\n",
      "The validation accuracy is 0.901600\n",
      "after 300 traing steps,the loss is 0.311151\n",
      "The validation accuracy is 0.893200\n",
      "after 400 traing steps,the loss is 0.403186\n",
      "The validation accuracy is 0.933800\n",
      "after 500 traing steps,the loss is 0.059740\n",
      "The validation accuracy is 0.938400\n",
      "after 600 traing steps,the loss is 0.647888\n",
      "The validation accuracy is 0.931400\n",
      "after 700 traing steps,the loss is 0.167690\n",
      "The validation accuracy is 0.945200\n",
      "after 800 traing steps,the loss is 0.280633\n",
      "The validation accuracy is 0.954400\n",
      "after 900 traing steps,the loss is 0.163821\n",
      "The validation accuracy is 0.953800\n",
      "after 1000 traing steps,the loss is 0.289288\n",
      "The validation accuracy is 0.953600\n",
      "after 1100 traing steps,the loss is 0.260141\n",
      "The validation accuracy is 0.954200\n",
      "after 1200 traing steps,the loss is 0.197481\n",
      "The validation accuracy is 0.955400\n",
      "after 1300 traing steps,the loss is 0.224343\n",
      "The validation accuracy is 0.960800\n",
      "after 1400 traing steps,the loss is 0.028259\n",
      "The validation accuracy is 0.961800\n",
      "after 1500 traing steps,the loss is 0.066610\n",
      "The validation accuracy is 0.961600\n",
      "after 1600 traing steps,the loss is 0.229498\n",
      "The validation accuracy is 0.964600\n",
      "after 1700 traing steps,the loss is 0.035524\n",
      "The validation accuracy is 0.964800\n",
      "after 1800 traing steps,the loss is 0.065038\n",
      "The validation accuracy is 0.957400\n",
      "after 1900 traing steps,the loss is 0.369264\n",
      "The validation accuracy is 0.962000\n",
      "after 2000 traing steps,the loss is 0.042625\n",
      "The validation accuracy is 0.970400\n",
      "after 2100 traing steps,the loss is 0.066078\n",
      "The validation accuracy is 0.962800\n",
      "after 2200 traing steps,the loss is 0.631751\n",
      "The validation accuracy is 0.959400\n",
      "after 2300 traing steps,the loss is 0.068866\n",
      "The validation accuracy is 0.968000\n",
      "after 2400 traing steps,the loss is 0.019926\n",
      "The validation accuracy is 0.968400\n",
      "after 2500 traing steps,the loss is 0.149348\n",
      "The validation accuracy is 0.971400\n",
      "after 2600 traing steps,the loss is 0.043731\n",
      "The validation accuracy is 0.966000\n",
      "after 2700 traing steps,the loss is 0.064254\n",
      "The validation accuracy is 0.969800\n",
      "after 2800 traing steps,the loss is 0.224272\n",
      "The validation accuracy is 0.968000\n",
      "after 2900 traing steps,the loss is 0.052239\n",
      "The validation accuracy is 0.973800\n",
      "the training is finish!\n",
      "the test accuracy is: 0.971\n"
     ]
    }
   ],
   "source": [
    "#创建session进行实例化的训练\n",
    "with tf.Session() as sess:\n",
    "    sess.run(tf.global_variables_initializer())\n",
    "    \n",
    "    #定义验证集\n",
    "    validate_data = {\n",
    "        x:mnist.validation.images,\n",
    "        y:mnist.validation.labels,\n",
    "    }\n",
    "    #测试集\n",
    "    test_data = {x:mnist.test.images,y:mnist.test.labels}\n",
    "    \n",
    "    for i in range(training_step):\n",
    "        xs,ys = mnist.train.next_batch(batch_size)\n",
    "        _,loss = sess.run([optimizer,cross_entropy_loss],feed_dict={x:xs,y:ys,learning_rate:0.3})\n",
    "        \n",
    "        if i > 0 and i%100 == 0:\n",
    "            validate_accuracy = sess.run(accuracy,feed_dict=validate_data)\n",
    "            print('after %d traing steps,the loss is %f'%(i,loss))\n",
    "            print(\"The validation accuracy is %f\"%validate_accuracy)\n",
    "            saver.save(sess,'./model.ckpt',global_step=i)\n",
    "            \n",
    "    print('the training is finish!')\n",
    "    #测试集的准确率\n",
    "    acc = sess.run(accuracy,feed_dict= test_data)\n",
    "    print('the test accuracy is:',acc)"
   ]
  },
  {
   "cell_type": "code",
   "execution_count": 27,
   "metadata": {},
   "outputs": [
    {
     "name": "stdout",
     "output_type": "stream",
     "text": [
      "INFO:tensorflow:Restoring parameters from ./model.ckpt-2900\n",
      "1.0\n"
     ]
    },
    {
     "data": {
      "image/png": "[encoded data removed]",
      "text/plain": [
       "<Figure size 576x576 with 16 Axes>"
      ]
     },
     "metadata": {
      "needs_background": "light"
     },
     "output_type": "display_data"
    }
   ],
   "source": [
    "###测试举例\n",
    "with tf.Session() as sess:\n",
    "    ckpt = tf.train.get_checkpoint_state('./')\n",
    "    if ckpt and ckpt.model_checkpoint_path:\n",
    "        saver.restore(sess,ckpt.model_checkpoint_path)\n",
    "        final_pred,acc = sess.run(\n",
    "            [pred,accuracy],\n",
    "            feed_dict={\n",
    "                x:mnist.test.images[:16],\n",
    "                y:mnist.test.labels[:16],\n",
    "            })\n",
    "        orders = np.argsort(final_pred)\n",
    "        plt.figure(figsize=(8,8))\n",
    "        print(acc)\n",
    "        for idx in range(16):\n",
    "            order = orders[idx,:][-1]\n",
    "            prob = final_pred[idx,:][order]\n",
    "            plt.subplot(4,4,idx+1)\n",
    "            plt.axis('off')\n",
    "            plt.title('{}:[{}]-[{:.1f}%]'.format(mnist.test.labels[idx],order,prob*100))\n",
    "            plt.imshow(mnist.test.images[idx].reshape((28,28)))\n",
    "    else:\n",
    "        pass\n",
    "            \n",
    "        "
   ]
  },
  {
   "cell_type": "code",
   "execution_count": null,
   "metadata": {},
   "outputs": [],
   "source": []
  }
 ],
 "metadata": {
  "kernelspec": {
   "display_name": "Python 3",
   "language": "python",
   "name": "python3"
  },
  "language_info": {
   "codemirror_mode": {
    "name": "ipython",
    "version": 3
   },
   "file_extension": ".py",
   "mimetype": "text/x-python",
   "name": "python",
   "nbconvert_exporter": "python",
   "pygments_lexer": "ipython3",
   "version": "3.7.3"
  }
 },
 "nbformat": 4,
 "nbformat_minor": 2
}
